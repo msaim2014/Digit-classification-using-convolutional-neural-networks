{
 "cells": [
  {
   "cell_type": "markdown",
   "metadata": {},
   "source": [
    "# Digit classification using convolutional neural networks"
   ]
  },
  {
   "cell_type": "markdown",
   "metadata": {},
   "source": [
    "# Setup"
   ]
  },
  {
   "cell_type": "markdown",
   "metadata": {},
   "source": [
    "First, make sure that you have installed Keras on your computer."
   ]
  },
  {
   "cell_type": "code",
   "execution_count": 1,
   "metadata": {},
   "outputs": [
    {
     "name": "stderr",
     "output_type": "stream",
     "text": [
      "Using TensorFlow backend.\n"
     ]
    }
   ],
   "source": [
    "# Code from https://github.com/keras-team/keras \n",
    "\n",
    "from __future__ import print_function\n",
    "import keras\n",
    "from keras.datasets import mnist\n",
    "from keras.models import Sequential\n",
    "from keras.layers import Dense, Dropout, Flatten\n",
    "from keras.layers import Conv2D, MaxPooling2D\n",
    "from keras.optimizers import RMSprop\n",
    "from keras import backend as K"
   ]
  },
  {
   "cell_type": "markdown",
   "metadata": {},
   "source": [
    "# Load (and split) the MNIST dataset"
   ]
  },
  {
   "cell_type": "code",
   "execution_count": 2,
   "metadata": {},
   "outputs": [
    {
     "name": "stdout",
     "output_type": "stream",
     "text": [
      "60000 train samples\n",
      "10000 test samples\n"
     ]
    }
   ],
   "source": [
    "# Code from https://github.com/keras-team/keras \n",
    "\n",
    "# the data, shuffled and split between train and test sets\n",
    "#loading the dataset\n",
    "(x_train, y_train), (x_test, y_test) = mnist.load_data()\n",
    "\n",
    "#flattening the 28*28 images to a 784 vector for all images\n",
    "x_train = x_train.reshape(60000, 784)\n",
    "x_test = x_test.reshape(10000, 784)\n",
    "x_train = x_train.astype('float32')\n",
    "x_test = x_test.astype('float32')\n",
    "\n",
    "#Normalizing the pixel values to the range 0 and 1\n",
    "x_train /= 255\n",
    "x_test /= 255\n",
    "print(x_train.shape[0], 'train samples')\n",
    "print(x_test.shape[0], 'test samples')"
   ]
  },
  {
   "cell_type": "code",
   "execution_count": 3,
   "metadata": {},
   "outputs": [
    {
     "name": "stdout",
     "output_type": "stream",
     "text": [
      "(60000, 784)\n",
      "(60000,)\n",
      "(10000, 784)\n",
      "(10000,)\n"
     ]
    }
   ],
   "source": [
    "print(x_train.shape)\n",
    "print(y_train.shape)\n",
    "print(x_test.shape)\n",
    "print(y_test.shape)"
   ]
  },
  {
   "cell_type": "code",
   "execution_count": 6,
   "metadata": {},
   "outputs": [
    {
     "data": {
      "image/png": "[encoded data removed]",
      "text/plain": [
       "<matplotlib.figure.Figure at 0x1c514bf99e8>"
      ]
     },
     "metadata": {},
     "output_type": "display_data"
    }
   ],
   "source": [
    "#select and display some digit from the dataset\n",
    "import matplotlib\n",
    "import matplotlib.pyplot as plt\n",
    "\n",
    "#taking an images feature vector and reshaping it to a 28*28 pixel image 7201\n",
    "some_digit_index = 7201\n",
    "some_digit = x_train[some_digit_index]\n",
    "some_digit_image = some_digit.reshape(28,28)\n",
    "plt.imshow(some_digit_image, cmap = matplotlib.cm.binary, interpolation=\"nearest\")\n",
    "plt.show()"
   ]
  },
  {
   "cell_type": "markdown",
   "metadata": {},
   "source": [
    "# Prepare the data"
   ]
  },
  {
   "cell_type": "code",
   "execution_count": 7,
   "metadata": {
    "collapsed": true
   },
   "outputs": [],
   "source": [
    "# Code from https://github.com/keras-team/keras \n",
    "\n",
    "num_classes = 10\n",
    "\n",
    "# convert class vectors to binary class matrices\n",
    "# one hot encoding of the class values\n",
    "y_train = keras.utils.to_categorical(y_train, num_classes)\n",
    "y_test = keras.utils.to_categorical(y_test, num_classes)"
   ]
  },
  {
   "cell_type": "markdown",
   "metadata": {},
   "source": [
    "# Build the first model (deep MLP) in Keras  "
   ]
  },
  {
   "cell_type": "code",
   "execution_count": 8,
   "metadata": {},
   "outputs": [
    {
     "name": "stdout",
     "output_type": "stream",
     "text": [
      "_________________________________________________________________\n",
      "Layer (type)                 Output Shape              Param #   \n",
      "=================================================================\n",
      "dense_1 (Dense)              (None, 512)               401920    \n",
      "_________________________________________________________________\n",
      "dropout_1 (Dropout)          (None, 512)               0         \n",
      "_________________________________________________________________\n",
      "dense_2 (Dense)              (None, 512)               262656    \n",
      "_________________________________________________________________\n",
      "dropout_2 (Dropout)          (None, 512)               0         \n",
      "_________________________________________________________________\n",
      "dense_3 (Dense)              (None, 10)                5130      \n",
      "=================================================================\n",
      "Total params: 669,706\n",
      "Trainable params: 669,706\n",
      "Non-trainable params: 0\n",
      "_________________________________________________________________\n"
     ]
    }
   ],
   "source": [
    "# Code from https://github.com/keras-team/keras \n",
    "# relu function used for neurons in the hidden layer\n",
    "# softmax is the activation function used on the output layer\n",
    "#        to turn the outputs into probablity-like values and allow\n",
    "#        one class tof the 10 to be selected as the model's output\n",
    "#        prediction\n",
    "# adam gradient descent is used to learn the weights\n",
    "# logarithmic loss is used to compute loss function\n",
    "\n",
    "#linear stack of layers\n",
    "model1 = Sequential()\n",
    "\n",
    "#fully connected layer with 512 hidden units. First layer needs input_shape\n",
    "model1.add(Dense(512, activation='relu', input_shape=(784,)))\n",
    "\n",
    "# regularization layer which randomly excludes 20% of the neurons in the layer to reduce overfitting\n",
    "model1.add(Dropout(0.2))\n",
    "model1.add(Dense(512, activation='relu'))\n",
    "model1.add(Dropout(0.2))\n",
    "\n",
    "# final layer with 10 neurons for 10 classes\n",
    "model1.add(Dense(num_classes, activation='softmax'))\n",
    "\n",
    "model1.compile(loss='categorical_crossentropy',\n",
    "              optimizer=RMSprop(),\n",
    "              metrics=['accuracy'])\n",
    "\n",
    "model1.summary()"
   ]
  },
  {
   "cell_type": "markdown",
   "metadata": {},
   "source": [
    "# Training the first network  "
   ]
  },
  {
   "cell_type": "markdown",
   "metadata": {},
   "source": [
    "12 epochs, mini-batch size = 128 <br/>\n",
    "This will take ~10 seconds per epoch on a CPU."
   ]
  },
  {
   "cell_type": "code",
   "execution_count": 9,
   "metadata": {},
   "outputs": [
    {
     "name": "stdout",
     "output_type": "stream",
     "text": [
      "Train on 60000 samples, validate on 10000 samples\n",
      "Epoch 1/12\n",
      "60000/60000 [==============================] - 20s 339us/step - loss: 0.2444 - acc: 0.9252 - val_loss: 0.1037 - val_acc: 0.9666\n",
      "Epoch 2/12\n",
      "60000/60000 [==============================] - 19s 318us/step - loss: 0.1026 - acc: 0.9690 - val_loss: 0.0852 - val_acc: 0.9723\n",
      "Epoch 3/12\n",
      "60000/60000 [==============================] - 19s 325us/step - loss: 0.0758 - acc: 0.9773 - val_loss: 0.0740 - val_acc: 0.9792\n",
      "Epoch 4/12\n",
      "60000/60000 [==============================] - 20s 337us/step - loss: 0.0609 - acc: 0.9816 - val_loss: 0.0790 - val_acc: 0.9785\n",
      "Epoch 5/12\n",
      "60000/60000 [==============================] - 20s 339us/step - loss: 0.0506 - acc: 0.9847 - val_loss: 0.0906 - val_acc: 0.9775\n",
      "Epoch 6/12\n",
      "60000/60000 [==============================] - 20s 341us/step - loss: 0.0466 - acc: 0.9857 - val_loss: 0.0842 - val_acc: 0.9795\n",
      "Epoch 7/12\n",
      "60000/60000 [==============================] - 20s 338us/step - loss: 0.0388 - acc: 0.9884 - val_loss: 0.0736 - val_acc: 0.9825\n",
      "Epoch 8/12\n",
      "60000/60000 [==============================] - 20s 337us/step - loss: 0.0360 - acc: 0.9897 - val_loss: 0.0900 - val_acc: 0.9794\n",
      "Epoch 9/12\n",
      "60000/60000 [==============================] - 20s 339us/step - loss: 0.0309 - acc: 0.9911 - val_loss: 0.0884 - val_acc: 0.9821\n",
      "Epoch 10/12\n",
      "60000/60000 [==============================] - 20s 336us/step - loss: 0.0293 - acc: 0.9919 - val_loss: 0.0889 - val_acc: 0.9811\n",
      "Epoch 11/12\n",
      "60000/60000 [==============================] - 19s 317us/step - loss: 0.0266 - acc: 0.9922 - val_loss: 0.0872 - val_acc: 0.9828\n",
      "Epoch 12/12\n",
      "60000/60000 [==============================] - 19s 309us/step - loss: 0.0255 - acc: 0.9929 - val_loss: 0.0837 - val_acc: 0.9847\n"
     ]
    }
   ],
   "source": [
    "# Code from https://github.com/keras-team/keras \n",
    "\n",
    "batch_size = 128\n",
    "epochs = 12\n",
    "history1 = model1.fit(x_train, y_train,\n",
    "                    batch_size=batch_size,\n",
    "                    epochs=epochs,\n",
    "                    verbose=1,\n",
    "                    validation_data=(x_test, y_test))"
   ]
  },
  {
   "cell_type": "markdown",
   "metadata": {},
   "source": [
    "# Evaluating performance on test set"
   ]
  },
  {
   "cell_type": "code",
   "execution_count": 10,
   "metadata": {},
   "outputs": [
    {
     "name": "stdout",
     "output_type": "stream",
     "text": [
      "Test loss: 0.0837242539306\n",
      "Test accuracy: 0.9847\n"
     ]
    }
   ],
   "source": [
    "score1 = model1.evaluate(x_test, y_test, verbose=0)\n",
    "print('Test loss:', score1[0])\n",
    "print('Test accuracy:', score1[1])"
   ]
  },
  {
   "cell_type": "markdown",
   "metadata": {},
   "source": [
    "# Building the second model (CNN) in Keras  "
   ]
  },
  {
   "cell_type": "code",
   "execution_count": 11,
   "metadata": {},
   "outputs": [
    {
     "name": "stdout",
     "output_type": "stream",
     "text": [
      "x_train shape: (60000, 28, 28, 1)\n",
      "60000 train samples\n",
      "10000 test samples\n"
     ]
    }
   ],
   "source": [
    "# Code from https://github.com/keras-team/keras \n",
    "\n",
    "# Re-load and re-shape the dataset\n",
    "\n",
    "# input image dimensions\n",
    "img_rows, img_cols = 28, 28\n",
    "\n",
    "# the data, shuffled and split between train and test sets\n",
    "(x_train, y_train), (x_test, y_test) = mnist.load_data()\n",
    "\n",
    "if K.image_data_format() == 'channels_first':\n",
    "    x_train = x_train.reshape(x_train.shape[0], 1, img_rows, img_cols)\n",
    "    x_test = x_test.reshape(x_test.shape[0], 1, img_rows, img_cols)\n",
    "    input_shape = (1, img_rows, img_cols)\n",
    "else:\n",
    "    x_train = x_train.reshape(x_train.shape[0], img_rows, img_cols, 1)\n",
    "    x_test = x_test.reshape(x_test.shape[0], img_rows, img_cols, 1)\n",
    "    input_shape = (img_rows, img_cols, 1)\n",
    "\n",
    "x_train = x_train.astype('float32')\n",
    "x_test = x_test.astype('float32')\n",
    "x_train /= 255\n",
    "x_test /= 255\n",
    "print('x_train shape:', x_train.shape)\n",
    "print(x_train.shape[0], 'train samples')\n",
    "print(x_test.shape[0], 'test samples')"
   ]
  },
  {
   "cell_type": "code",
   "execution_count": 12,
   "metadata": {},
   "outputs": [
    {
     "name": "stdout",
     "output_type": "stream",
     "text": [
      "_________________________________________________________________\n",
      "Layer (type)                 Output Shape              Param #   \n",
      "=================================================================\n",
      "conv2d_1 (Conv2D)            (None, 26, 26, 32)        320       \n",
      "_________________________________________________________________\n",
      "conv2d_2 (Conv2D)            (None, 24, 24, 64)        18496     \n",
      "_________________________________________________________________\n",
      "max_pooling2d_1 (MaxPooling2 (None, 12, 12, 64)        0         \n",
      "_________________________________________________________________\n",
      "dropout_3 (Dropout)          (None, 12, 12, 64)        0         \n",
      "_________________________________________________________________\n",
      "flatten_1 (Flatten)          (None, 9216)              0         \n",
      "_________________________________________________________________\n",
      "dense_4 (Dense)              (None, 128)               1179776   \n",
      "_________________________________________________________________\n",
      "dropout_4 (Dropout)          (None, 128)               0         \n",
      "_________________________________________________________________\n",
      "dense_5 (Dense)              (None, 10)                1290      \n",
      "=================================================================\n",
      "Total params: 1,199,882\n",
      "Trainable params: 1,199,882\n",
      "Non-trainable params: 0\n",
      "_________________________________________________________________\n"
     ]
    }
   ],
   "source": [
    "# Code from https://github.com/keras-team/keras \n",
    "num_classes = 10\n",
    "\n",
    "# convert class vectors to binary class matrices\n",
    "y_train = keras.utils.to_categorical(y_train, num_classes)\n",
    "y_test = keras.utils.to_categorical(y_test, num_classes)\n",
    "\n",
    "model2 = Sequential()\n",
    "model2.add(Conv2D(32, kernel_size=(3, 3),\n",
    "                 activation='relu',\n",
    "                 input_shape=input_shape))\n",
    "model2.add(Conv2D(64, (3, 3), activation='relu'))\n",
    "model2.add(MaxPooling2D(pool_size=(2, 2)))\n",
    "model2.add(Dropout(0.25))\n",
    "model2.add(Flatten())\n",
    "model2.add(Dense(128, activation='relu'))\n",
    "model2.add(Dropout(0.5))\n",
    "model2.add(Dense(num_classes, activation='softmax'))\n",
    "\n",
    "model2.compile(loss=keras.losses.categorical_crossentropy,\n",
    "              optimizer=keras.optimizers.Adadelta(),\n",
    "              metrics=['accuracy'])\n",
    "\n",
    "model2.summary()"
   ]
  },
  {
   "cell_type": "markdown",
   "metadata": {},
   "source": [
    "# Training the second network  "
   ]
  },
  {
   "cell_type": "markdown",
   "metadata": {},
   "source": [
    "12 epochs, mini-batch size = 128 <br/>\n",
    "<b>WARNING:</b> This will take 3-5 minutes per epoch on a CPU! You might want to reduce the value of varibale 'epochs' before training the first time and/or save the resulting model after the training is over."
   ]
  },
  {
   "cell_type": "code",
   "execution_count": 13,
   "metadata": {},
   "outputs": [
    {
     "name": "stdout",
     "output_type": "stream",
     "text": [
      "Train on 60000 samples, validate on 10000 samples\n",
      "Epoch 1/3\n",
      "60000/60000 [==============================] - 320s 5ms/step - loss: 0.2561 - acc: 0.9216 - val_loss: 0.0573 - val_acc: 0.9820\n",
      "Epoch 2/3\n",
      "60000/60000 [==============================] - 312s 5ms/step - loss: 0.0854 - acc: 0.9747 - val_loss: 0.0384 - val_acc: 0.9871\n",
      "Epoch 3/3\n",
      "60000/60000 [==============================] - 260s 4ms/step - loss: 0.0633 - acc: 0.9808 - val_loss: 0.0333 - val_acc: 0.9892\n"
     ]
    }
   ],
   "source": [
    "# Code from https://github.com/keras-team/keras \n",
    "\n",
    "batch_size = 128\n",
    "epochs = 3\n",
    "history2 = model2.fit(x_train, y_train,\n",
    "          batch_size=batch_size,\n",
    "          epochs=epochs,\n",
    "          verbose=1,\n",
    "          validation_data=(x_test, y_test))"
   ]
  },
  {
   "cell_type": "markdown",
   "metadata": {},
   "source": [
    "# Evaluating performance on test set"
   ]
  },
  {
   "cell_type": "code",
   "execution_count": 14,
   "metadata": {},
   "outputs": [
    {
     "name": "stdout",
     "output_type": "stream",
     "text": [
      "Test loss: 0.0333199583888\n",
      "Test accuracy: 0.9892\n"
     ]
    }
   ],
   "source": [
    "score2 = model2.evaluate(x_test, y_test, verbose=0)\n",
    "print('Test loss:', score2[0])\n",
    "print('Test accuracy:', score2[1])"
   ]
  },
  {
   "cell_type": "markdown",
   "metadata": {},
   "source": [
    "# Best Solution"
   ]
  },
  {
   "cell_type": "markdown",
   "metadata": {},
   "source": [
    "# Architecture with larger convolutional windows"
   ]
  },
  {
   "cell_type": "code",
   "execution_count": 90,
   "metadata": {},
   "outputs": [
    {
     "name": "stdout",
     "output_type": "stream",
     "text": [
      "x_train shape: (60000, 28, 28, 1)\n",
      "60000 train samples\n",
      "10000 test samples\n"
     ]
    }
   ],
   "source": [
    "# Code from https://github.com/keras-team/keras \n",
    "\n",
    "# Re-load and re-shape the dataset\n",
    "\n",
    "# input image dimensions\n",
    "img_rows, img_cols = 28, 28\n",
    "\n",
    "# the data, shuffled and split between train and test sets\n",
    "(x_train, y_train), (x_test, y_test) = mnist.load_data()\n",
    "\n",
    "if K.image_data_format() == 'channels_first':\n",
    "    x_train = x_train.reshape(x_train.shape[0], 1, img_rows, img_cols)\n",
    "    x_test = x_test.reshape(x_test.shape[0], 1, img_rows, img_cols)\n",
    "    input_shape = (1, img_rows, img_cols)\n",
    "else:\n",
    "    x_train = x_train.reshape(x_train.shape[0], img_rows, img_cols, 1)\n",
    "    x_test = x_test.reshape(x_test.shape[0], img_rows, img_cols, 1)\n",
    "    input_shape = (img_rows, img_cols, 1)\n",
    "\n",
    "x_train = x_train.astype('float32')\n",
    "x_test = x_test.astype('float32')\n",
    "x_train /= 255\n",
    "x_test /= 255\n",
    "print('x_train shape:', x_train.shape)\n",
    "print(x_train.shape[0], 'train samples')\n",
    "print(x_test.shape[0], 'test samples')\n",
    "y_test_conf=y_test"
   ]
  },
  {
   "cell_type": "code",
   "execution_count": 91,
   "metadata": {},
   "outputs": [
    {
     "name": "stdout",
     "output_type": "stream",
     "text": [
      "_________________________________________________________________\n",
      "Layer (type)                 Output Shape              Param #   \n",
      "=================================================================\n",
      "dropout_35 (Dropout)         (None, 28, 28, 1)         0         \n",
      "_________________________________________________________________\n",
      "conv2d_23 (Conv2D)           (None, 24, 24, 64)        1664      \n",
      "_________________________________________________________________\n",
      "conv2d_24 (Conv2D)           (None, 20, 20, 64)        102464    \n",
      "_________________________________________________________________\n",
      "max_pooling2d_12 (MaxPooling (None, 10, 10, 64)        0         \n",
      "_________________________________________________________________\n",
      "dropout_36 (Dropout)         (None, 10, 10, 64)        0         \n",
      "_________________________________________________________________\n",
      "flatten_12 (Flatten)         (None, 6400)              0         \n",
      "_________________________________________________________________\n",
      "dense_26 (Dense)             (None, 128)               819328    \n",
      "_________________________________________________________________\n",
      "dropout_37 (Dropout)         (None, 128)               0         \n",
      "_________________________________________________________________\n",
      "dense_27 (Dense)             (None, 10)                1290      \n",
      "=================================================================\n",
      "Total params: 924,746\n",
      "Trainable params: 924,746\n",
      "Non-trainable params: 0\n",
      "_________________________________________________________________\n"
     ]
    }
   ],
   "source": [
    "num_classes = 10\n",
    "\n",
    "# convert class vectors to binary class matrices\n",
    "y_train = keras.utils.to_categorical(y_train, num_classes)\n",
    "y_test = keras.utils.to_categorical(y_test, num_classes)\n",
    "\n",
    "'''conv2D-applies 64 convolutional filters of size 5*5 each\n",
    "    MaxPooling2D- pooling layer with pool size of 2*2\n",
    "    Flatten-converts 2D matrix data into a vector. outputs can\n",
    "        be processed by standard fully connected layers\n",
    "    Padding='same' gave the same result with more time to run\n",
    "    First Dropout is on the visable layer\n",
    "'''\n",
    "CNN3 = Sequential()\n",
    "CNN3.add(Dropout(0.20, input_shape=input_shape))\n",
    "CNN3.add(Conv2D(64, kernel_size=(5, 5), activation='relu'))\n",
    "CNN3.add(Conv2D(64, (5, 5), activation='relu'))\n",
    "CNN3.add(MaxPooling2D(pool_size=(2,2)))\n",
    "CNN3.add(Dropout(0.25))\n",
    "CNN3.add(Flatten())\n",
    "CNN3.add(Dense(128, activation='relu'))\n",
    "CNN3.add(Dropout(0.5))\n",
    "CNN3.add(Dense(num_classes, activation='softmax'))\n",
    "\n",
    "CNN3.compile(loss=keras.losses.categorical_crossentropy,\n",
    "              optimizer=keras.optimizers.Adadelta(),\n",
    "              metrics=['accuracy'])\n",
    "\n",
    "#Prints summary of layers\n",
    "CNN3.summary()"
   ]
  },
  {
   "cell_type": "code",
   "execution_count": 92,
   "metadata": {},
   "outputs": [
    {
     "name": "stdout",
     "output_type": "stream",
     "text": [
      "Train on 60000 samples, validate on 10000 samples\n",
      "Epoch 1/4\n",
      "60000/60000 [==============================] - 709s 12ms/step - loss: 0.2120 - acc: 0.9356 - val_loss: 0.0452 - val_acc: 0.9852\n",
      "Epoch 2/4\n",
      "60000/60000 [==============================] - 628s 10ms/step - loss: 0.0853 - acc: 0.9744 - val_loss: 0.0400 - val_acc: 0.9869\n",
      "Epoch 3/4\n",
      "60000/60000 [==============================] - 622s 10ms/step - loss: 0.0657 - acc: 0.9806 - val_loss: 0.0328 - val_acc: 0.9900\n",
      "Epoch 4/4\n",
      "60000/60000 [==============================] - 615s 10ms/step - loss: 0.0563 - acc: 0.9835 - val_loss: 0.0265 - val_acc: 0.9908\n"
     ]
    }
   ],
   "source": [
    "batch_size = 64\n",
    "epochs = 4\n",
    "\n",
    "#Train the model\n",
    "history3 = CNN3.fit(x_train, y_train,\n",
    "          batch_size=batch_size,\n",
    "          epochs=epochs,\n",
    "          verbose=1,\n",
    "          validation_data=(x_test, y_test))"
   ]
  },
  {
   "cell_type": "code",
   "execution_count": 93,
   "metadata": {
    "collapsed": true
   },
   "outputs": [],
   "source": [
    "#gets the predictions to make a confusion matrix\n",
    "prediction=CNN3.predict(x_test)"
   ]
  },
  {
   "cell_type": "code",
   "execution_count": 94,
   "metadata": {
    "collapsed": true
   },
   "outputs": [],
   "source": [
    "import numpy as np\n",
    "\n",
    "#Returns the indices of the maximum values along an axis.\n",
    "test=np.argmax(y_test, 1)\n",
    "pred=np.argmax(prediction, 1)"
   ]
  },
  {
   "cell_type": "code",
   "execution_count": 95,
   "metadata": {},
   "outputs": [
    {
     "name": "stdout",
     "output_type": "stream",
     "text": [
      "[[ 976    1    0    0    0    0    1    1    1    0]\n",
      " [   0 1135    0    0    0    0    0    0    0    0]\n",
      " [   2    2 1023    1    0    0    0    4    0    0]\n",
      " [   0    0    1 1002    0    3    0    2    2    0]\n",
      " [   1    0    0    0  974    0    1    1    1    4]\n",
      " [   2    0    0    5    0  880    3    1    0    1]\n",
      " [   5    2    0    0    1    2  948    0    0    0]\n",
      " [   0    3    3    0    0    0    0 1019    1    2]\n",
      " [   3    1    1    0    1    0    0    3  958    7]\n",
      " [   2    3    0    0    3    4    1    2    1  993]]\n"
     ]
    }
   ],
   "source": [
    "from sklearn.metrics import classification_report, confusion_matrix\n",
    "\n",
    "#confusion matrix to table prediction vs actual\n",
    "conf_matrix = confusion_matrix(test, pred)\n",
    "print(conf_matrix)"
   ]
  },
  {
   "cell_type": "code",
   "execution_count": 96,
   "metadata": {},
   "outputs": [
    {
     "data": {
      "image/png": "[encoded data removed]",
      "text/plain": [
       "<matplotlib.figure.Figure at 0x1c52d920ef0>"
      ]
     },
     "metadata": {},
     "output_type": "display_data"
    }
   ],
   "source": [
    "#Displays Matrix\n",
    "plt.matshow(conf_matrix, cmap=plt.cm.gray)\n",
    "plt.show()"
   ]
  },
  {
   "cell_type": "code",
   "execution_count": 97,
   "metadata": {},
   "outputs": [
    {
     "data": {
      "image/png": "[encoded data removed]",
      "text/plain": [
       "<matplotlib.figure.Figure at 0x1c52e6b9cf8>"
      ]
     },
     "metadata": {},
     "output_type": "display_data"
    }
   ],
   "source": [
    "#focusing the plot on errors\n",
    "row_sums = conf_matrix.sum(axis=1, keepdims=True)\n",
    "\n",
    "#dividing each value in the confusion matrix by the number of images in corresponding classes\n",
    "norm_conf_mx = conf_matrix / row_sums\n",
    "\n",
    "#filling the diagonal with zeros to keep only the errors\n",
    "np.fill_diagonal(norm_conf_mx, 0)\n",
    "plt.matshow(norm_conf_mx, cmap=plt.cm.gray)\n",
    "plt.show()"
   ]
  },
  {
   "cell_type": "code",
   "execution_count": 98,
   "metadata": {},
   "outputs": [
    {
     "data": {
      "image/png": "[encoded data removed]",
      "text/plain": [
       "<matplotlib.figure.Figure at 0x1c52e94ac18>"
      ]
     },
     "metadata": {},
     "output_type": "display_data"
    }
   ],
   "source": [
    "import matplotlib.pyplot as plt\n",
    "\n",
    "#Getting history\n",
    "training_loss=history3.history['loss']\n",
    "validation_loss=history3.history['val_loss']\n",
    "epochs=range(4)\n",
    "\n",
    "#Plotting training and validation curves\n",
    "plt.plot(epochs,training_loss)\n",
    "plt.plot(epochs,validation_loss)\n",
    "\n",
    "#Displaying plot\n",
    "plt.xlabel('number of Epochs')\n",
    "plt.ylabel('loss')\n",
    "plt.title('training_loss vs validation_loss')\n",
    "plt.grid(True)\n",
    "plt.legend(['training','validation'])\n",
    "plt.style.use('seaborn')\n",
    "plt.show()"
   ]
  },
  {
   "cell_type": "code",
   "execution_count": 99,
   "metadata": {},
   "outputs": [
    {
     "data": {
      "image/png": "[encoded data removed]",
      "text/plain": [
       "<matplotlib.figure.Figure at 0x1c52e877470>"
      ]
     },
     "metadata": {},
     "output_type": "display_data"
    }
   ],
   "source": [
    "#Getting history\n",
    "training_acc=history3.history['acc']\n",
    "validation_acc=history3.history['val_acc']\n",
    "epochs=range(4)\n",
    "\n",
    "#Plotting training and validation curves\n",
    "plt.plot(epochs, training_acc)\n",
    "plt.plot(epochs, validation_acc)\n",
    "\n",
    "#Displaying plot\n",
    "plt.xlabel('number of Epochs')\n",
    "plt.ylabel('accuracy')\n",
    "plt.title('training_accuracy vs validation_accuracy')\n",
    "plt.grid(True)\n",
    "plt.legend(['training','validation'])\n",
    "plt.style.use('seaborn')\n",
    "plt.show()"
   ]
  },
  {
   "cell_type": "code",
   "execution_count": 100,
   "metadata": {},
   "outputs": [
    {
     "name": "stdout",
     "output_type": "stream",
     "text": [
      "Test loss: 0.0265202686068\n",
      "Test accuracy: 0.9908\n"
     ]
    }
   ],
   "source": [
    "score3 = CNN3.evaluate(x_test, y_test, verbose=0)\n",
    "print('Test loss:', score3[0])\n",
    "print('Test accuracy:', score3[1])\n",
    "#Test loss: 0.0265202686068\n",
    "#Test accuracy: 0.9908"
   ]
  },
  {
   "cell_type": "markdown",
   "metadata": {},
   "source": [
    "## Use a separate notebook"
   ]
  }
 ],
 "metadata": {
  "kernelspec": {
   "display_name": "Python 3",
   "language": "python",
   "name": "python3"
  },
  "language_info": {
   "codemirror_mode": {
    "name": "ipython",
    "version": 3
   },
   "file_extension": ".py",
   "mimetype": "text/x-python",
   "name": "python",
   "nbconvert_exporter": "python",
   "pygments_lexer": "ipython3",
   "version": "3.6.3"
  },
  "nav_menu": {},
  "toc": {
   "navigate_menu": true,
   "number_sections": true,
   "sideBar": true,
   "threshold": 6,
   "toc_cell": false,
   "toc_section_display": "block",
   "toc_window_display": false
  }
 },
 "nbformat": 4,
 "nbformat_minor": 1
}
